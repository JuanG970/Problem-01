{
 "metadata": {
  "language_info": {
   "codemirror_mode": {
    "name": "ipython",
    "version": 3
   },
   "file_extension": ".py",
   "mimetype": "text/x-python",
   "name": "python",
   "nbconvert_exporter": "python",
   "pygments_lexer": "ipython3",
   "version": "3.8.6-final"
  },
  "orig_nbformat": 2,
  "kernelspec": {
   "name": "python3",
   "display_name": "Python 3"
  }
 },
 "nbformat": 4,
 "nbformat_minor": 2,
 "cells": [
  {
   "cell_type": "code",
   "execution_count": 3,
   "metadata": {},
   "outputs": [],
   "source": [
    "import sys\n",
    "from scipy import linalg\n",
    "import numpy as np"
   ]
  },
  {
   "source": [
    "# Problem 1\n",
    "Using BLAS/LAPACK and the following system of linear equations:\n",
    "\n",
    "$x_1 - x_2  + 3x_4 = 8$\n",
    "\n",
    "$2x_1 + x_2 + 2x_3 + x_4 = 11$\n",
    "\n",
    "$2x_1 - 3x_2 - 2x_3  = -8 $\n",
    "\n",
    "$3x_2 - 2x_3 + 4x_4 = 14 $"
   ],
   "cell_type": "markdown",
   "metadata": {}
  },
  {
   "source": [
    "## Part (a)\n",
    "Find the coefficient matrix, matrix inverse and the determinant"
   ],
   "cell_type": "markdown",
   "metadata": {}
  },
  {
   "source": [
    "Given the linear system $A.x = B$, let $A$ be the coefficients matrix, then the coefficients matrix will be given by:"
   ],
   "cell_type": "markdown",
   "metadata": {}
  },
  {
   "cell_type": "code",
   "execution_count": 4,
   "metadata": {},
   "outputs": [
    {
     "output_type": "stream",
     "name": "stdout",
     "text": [
      "[[ 1 -1  0  3]\n [ 2  1  2  1]\n [ 2 -3 -2  0]\n [ 0  3 -2  4]]\n"
     ]
    }
   ],
   "source": [
    "A = np.matrix([[1, -1, 0, 3], [2, 1, 2, 1], [2, -3, -2, 0], [0, 3, -2, 4]])\n",
    "print(A)"
   ]
  },
  {
   "source": [
    "Then, the matrix inverse $A^{-1}$ can be obtained using BLAS as following:"
   ],
   "cell_type": "markdown",
   "metadata": {}
  },
  {
   "cell_type": "code",
   "execution_count": 5,
   "metadata": {},
   "outputs": [
    {
     "output_type": "stream",
     "name": "stdout",
     "text": [
      "[[-0.21875    0.34375    0.265625   0.078125 ]\n [-0.28125    0.15625   -0.015625   0.171875 ]\n [ 0.203125   0.109375  -0.2109375 -0.1796875]\n [ 0.3125    -0.0625    -0.09375    0.03125  ]]\n"
     ]
    }
   ],
   "source": [
    "Ainverse = linalg.inv(A)\n",
    "print(Ainverse)"
   ]
  },
  {
   "source": [
    "The determinant $|A|$ is computed with the following code"
   ],
   "cell_type": "markdown",
   "metadata": {}
  },
  {
   "cell_type": "code",
   "execution_count": 6,
   "metadata": {},
   "outputs": [
    {
     "output_type": "stream",
     "name": "stdout",
     "text": [
      "-128.0\n"
     ]
    }
   ],
   "source": [
    "detA = linalg.det(A)\n",
    "print(detA)"
   ]
  },
  {
   "source": [
    "## Part (b)\n",
    "Find the inverse of the coefficients matrix"
   ],
   "cell_type": "markdown",
   "metadata": {}
  },
  {
   "cell_type": "code",
   "execution_count": 7,
   "metadata": {},
   "outputs": [
    {
     "output_type": "stream",
     "name": "stdout",
     "text": [
      "[[-0.21875    0.34375    0.265625   0.078125 ]\n [-0.28125    0.15625   -0.015625   0.171875 ]\n [ 0.203125   0.109375  -0.2109375 -0.1796875]\n [ 0.3125    -0.0625    -0.09375    0.03125  ]]\n"
     ]
    }
   ],
   "source": [
    "print(Ainverse)"
   ]
  },
  {
   "source": [
    "## Part (c)\n",
    "Now, using an iterative algorithm, find the matrix inverse"
   ],
   "cell_type": "markdown",
   "metadata": {}
  },
  {
   "cell_type": "code",
   "execution_count": 9,
   "metadata": {},
   "outputs": [
    {
     "output_type": "stream",
     "name": "stdout",
     "text": [
      "1\n"
     ]
    }
   ],
   "source": [
    "def inverseUsingGauss(MatrixInput):\n",
    "    (MatrixInput)\n",
    "\n",
    "print(inverseUsingGauss(2))"
   ]
  },
  {
   "cell_type": "code",
   "execution_count": null,
   "metadata": {},
   "outputs": [],
   "source": []
  }
 ]
}