{
 "metadata": {
  "language_info": {
   "codemirror_mode": {
    "name": "ipython",
    "version": 3
   },
   "file_extension": ".py",
   "mimetype": "text/x-python",
   "name": "python",
   "nbconvert_exporter": "python",
   "pygments_lexer": "ipython3",
   "version": "3.8.6-final"
  },
  "orig_nbformat": 2,
  "kernelspec": {
   "name": "python3",
   "display_name": "Python 3"
  }
 },
 "nbformat": 4,
 "nbformat_minor": 2,
 "cells": [
  {
   "cell_type": "code",
   "execution_count": 16,
   "metadata": {},
   "outputs": [],
   "source": [
    "import sys\n",
    "from scipy import linalg\n",
    "import numpy as np"
   ]
  },
  {
   "source": [
    "# Problem 1\n",
    "Using BLAS/LAPACK and the following system of linear equations:\n",
    "\n",
    "$x_1 - x_2  + 3x_4 = 8$\n",
    "\n",
    "$2x_1 + x_2 + 2x_3 + x_4 = 11$\n",
    "\n",
    "$2x_1 - 3x_2 - 2x_3  = -8 $\n",
    "\n",
    "$3x_2 - 2x_3 + 4x_4 = 14 $"
   ],
   "cell_type": "markdown",
   "metadata": {}
  },
  {
   "source": [
    "## Part (a)\n",
    "Find the coefficient matrix, matrix inverse and the determinant"
   ],
   "cell_type": "markdown",
   "metadata": {}
  },
  {
   "source": [
    "Given the linear system $A.x = B$, let $A$ be the coefficients matrix, then the coefficients matrix will be given by:"
   ],
   "cell_type": "markdown",
   "metadata": {}
  },
  {
   "cell_type": "code",
   "execution_count": 17,
   "metadata": {},
   "outputs": [
    {
     "output_type": "stream",
     "name": "stdout",
     "text": [
      "[[ 1 -1  0  3]\n [ 2  1  2  1]\n [ 2 -3 -2  0]\n [ 0  3 -2  4]]\n"
     ]
    }
   ],
   "source": [
    "A = np.array([[1, -1, 0, 3], [2, 1, 2, 1], [2, -3, -2, 0], [0, 3, -2, 4]])\n",
    "print(A)"
   ]
  },
  {
   "source": [
    "Then, the matrix inverse $A^{-1}$ can be obtained using BLAS as following:"
   ],
   "cell_type": "markdown",
   "metadata": {}
  },
  {
   "cell_type": "code",
   "execution_count": 18,
   "metadata": {},
   "outputs": [
    {
     "output_type": "stream",
     "name": "stdout",
     "text": [
      "[[-0.21875    0.34375    0.265625   0.078125 ]\n [-0.28125    0.15625   -0.015625   0.171875 ]\n [ 0.203125   0.109375  -0.2109375 -0.1796875]\n [ 0.3125    -0.0625    -0.09375    0.03125  ]]\n"
     ]
    }
   ],
   "source": [
    "Ainverse = linalg.inv(A)\n",
    "print(Ainverse)"
   ]
  },
  {
   "source": [
    "The determinant $|A|$ is computed with the following code"
   ],
   "cell_type": "markdown",
   "metadata": {}
  },
  {
   "cell_type": "code",
   "execution_count": 19,
   "metadata": {},
   "outputs": [
    {
     "output_type": "stream",
     "name": "stdout",
     "text": [
      "-128.0\n"
     ]
    }
   ],
   "source": [
    "detA = linalg.det(A)\n",
    "print(detA)"
   ]
  },
  {
   "source": [
    "## Part (b)\n",
    "Find the inverse of the coefficients matrix"
   ],
   "cell_type": "markdown",
   "metadata": {}
  },
  {
   "cell_type": "code",
   "execution_count": 20,
   "metadata": {},
   "outputs": [
    {
     "output_type": "stream",
     "name": "stdout",
     "text": [
      "[[-0.21875    0.34375    0.265625   0.078125 ]\n [-0.28125    0.15625   -0.015625   0.171875 ]\n [ 0.203125   0.109375  -0.2109375 -0.1796875]\n [ 0.3125    -0.0625    -0.09375    0.03125  ]]\n"
     ]
    }
   ],
   "source": [
    "print(Ainverse)"
   ]
  },
  {
   "source": [
    "## Part (c)\n",
    "Now, using an iterative algorithm, find the matrix inverse"
   ],
   "cell_type": "markdown",
   "metadata": {}
  },
  {
   "cell_type": "code",
   "execution_count": 21,
   "metadata": {},
   "outputs": [
    {
     "output_type": "stream",
     "name": "stdout",
     "text": [
      "[[-0.21875    0.34375    0.265625   0.078125 ]\n [-0.28125    0.15625   -0.015625   0.171875 ]\n [ 0.203125   0.109375  -0.2109375 -0.1796875]\n [ 0.3125    -0.0625    -0.09375    0.03125  ]]\n"
     ]
    }
   ],
   "source": [
    "from iterativeMethods import *\n",
    "print(inverseUsingGauss(A))"
   ]
  },
  {
   "source": [
    "## Part (d)\n",
    "Solve the system ussing $x = A^{-1} B$"
   ],
   "cell_type": "markdown",
   "metadata": {}
  },
  {
   "cell_type": "code",
   "execution_count": 22,
   "metadata": {},
   "outputs": [
    {
     "output_type": "stream",
     "name": "stdout",
     "text": [
      "[[-1.75      2.75      2.125     0.625   ]\n [-3.09375   1.71875  -0.171875  1.890625]\n [-1.625    -0.875     1.6875    1.4375  ]\n [ 4.375    -0.875    -1.3125    0.4375  ]]\n"
     ]
    }
   ],
   "source": [
    "B = np.array([[8] ,[11], [-8], [14]])\n",
    "solution = Ainverse*B\n",
    "print(solution)"
   ]
  },
  {
   "source": [
    "## Part (e)\n",
    "Solve the system ussing Solve"
   ],
   "cell_type": "markdown",
   "metadata": {}
  },
  {
   "cell_type": "code",
   "execution_count": 23,
   "metadata": {},
   "outputs": [
    {
     "output_type": "stream",
     "name": "stdout",
     "text": [
      "[[1.]\n [2.]\n [2.]\n [3.]]\n"
     ]
    }
   ],
   "source": [
    "print(linalg.solve(A,B))"
   ]
  },
  {
   "source": [
    "## Part (f)\n",
    "Solve the system ussing an iterative method"
   ],
   "cell_type": "markdown",
   "metadata": {}
  },
  {
   "cell_type": "code",
   "execution_count": 24,
   "metadata": {},
   "outputs": [
    {
     "output_type": "stream",
     "name": "stdout",
     "text": [
      "[1.00005967 2.00004749 1.99996482 2.9999557 ]\n"
     ]
    }
   ],
   "source": [
    "BAux = B.flatten()\n",
    "print(solveUssingIterative(A, BAux))"
   ]
  },
  {
   "source": [
    "## Part (g)\n",
    "Find the eigenvalues and eigenvectors of the coefficients matrix"
   ],
   "cell_type": "markdown",
   "metadata": {}
  },
  {
   "cell_type": "code",
   "execution_count": 25,
   "metadata": {},
   "outputs": [
    {
     "output_type": "stream",
     "name": "stdout",
     "text": [
      "Eigen values:\n[-2.08120832+0.j          0.31062061+3.34182877j  0.31062061-3.34182877j\n  5.4599671 +0.j        ]\nEigen vectors:\n[[ 0.47287114+0.j          0.02294322+0.52054251j  0.02294322-0.52054251j\n   0.45825885+0.j        ]\n [ 0.29537001+0.j          0.57350275+0.j          0.57350275-0.j\n   0.37386625+0.j        ]\n [-0.734312  +0.j         -0.02364408+0.48476132j -0.02364408-0.48476132j\n  -0.02749088+0.j        ]\n [-0.38721483+0.j         -0.39395926-0.09405965j -0.39395926+0.09405965j\n   0.80589522+0.j        ]]\n"
     ]
    }
   ],
   "source": [
    "eigens = linalg.eig(A)\n",
    "print(\"Eigen values:\")\n",
    "print(eigens[0])\n",
    "print(\"Eigen vectors:\")\n",
    "print(eigens[1])"
   ]
  },
  {
   "cell_type": "code",
   "execution_count": null,
   "metadata": {},
   "outputs": [],
   "source": []
  }
 ]
}