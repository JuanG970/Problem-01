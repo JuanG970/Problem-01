{
 "metadata": {
  "language_info": {
   "codemirror_mode": {
    "name": "ipython",
    "version": 3
   },
   "file_extension": ".py",
   "mimetype": "text/x-python",
   "name": "python",
   "nbconvert_exporter": "python",
   "pygments_lexer": "ipython3",
   "version": "3.8.6-final"
  },
  "orig_nbformat": 2,
  "kernelspec": {
   "name": "python3",
   "display_name": "Python 3"
  }
 },
 "nbformat": 4,
 "nbformat_minor": 2,
 "cells": [
  {
   "cell_type": "code",
   "execution_count": 1,
   "metadata": {},
   "outputs": [],
   "source": [
    "import sys\n",
    "from scipy import linalg\n",
    "import numpy as np"
   ]
  },
  {
   "source": [
    "# Problem 1\n",
    "Using BLAS/LAPACK and the following system of linear equations:\n",
    "\n",
    "$x_1 - x_2  + 3x_4 = 8$\n",
    "\n",
    "$2x_1 + x_2 + 2x_3 + x_4 = 11$\n",
    "\n",
    "$2x_1 - 3x_2 - 2x_3  = -8 $\n",
    "\n",
    "$3x_2 - 2x_3 + 4x_4 = 14 $"
   ],
   "cell_type": "markdown",
   "metadata": {}
  },
  {
   "source": [
    "## Part (a)\n",
    "Find the coefficient matrix, matrix inverse and the determinant"
   ],
   "cell_type": "markdown",
   "metadata": {}
  },
  {
   "source": [
    "Given the linear system $A.x = B$, let $A$ be the coefficients matrix, then the coefficients matrix will be given by:"
   ],
   "cell_type": "markdown",
   "metadata": {}
  },
  {
   "cell_type": "code",
   "execution_count": 2,
   "metadata": {},
   "outputs": [
    {
     "output_type": "stream",
     "name": "stdout",
     "text": [
      "[[ 1 -1  0  3]\n [ 2  1  2  1]\n [ 2 -3 -2  0]\n [ 0  3 -2  4]]\n"
     ]
    }
   ],
   "source": [
    "A = np.matrix([[1, -1, 0, 3], [2, 1, 2, 1], [2, -3, -2, 0], [0, 3, -2, 4]])\n",
    "print(A)"
   ]
  },
  {
   "source": [
    "Then, the matrix inverse $A^{-1}$ can be obtained using BLAS as following:"
   ],
   "cell_type": "markdown",
   "metadata": {}
  },
  {
   "cell_type": "code",
   "execution_count": 3,
   "metadata": {},
   "outputs": [
    {
     "output_type": "stream",
     "name": "stdout",
     "text": [
      "[[-0.21875    0.34375    0.265625   0.078125 ]\n [-0.28125    0.15625   -0.015625   0.171875 ]\n [ 0.203125   0.109375  -0.2109375 -0.1796875]\n [ 0.3125    -0.0625    -0.09375    0.03125  ]]\n"
     ]
    }
   ],
   "source": [
    "Ainverse = linalg.inv(A)\n",
    "print(Ainverse)"
   ]
  },
  {
   "source": [
    "The determinant $|A|$ is computed with the following code"
   ],
   "cell_type": "markdown",
   "metadata": {}
  },
  {
   "cell_type": "code",
   "execution_count": 4,
   "metadata": {},
   "outputs": [
    {
     "output_type": "stream",
     "name": "stdout",
     "text": [
      "-128.0\n"
     ]
    }
   ],
   "source": [
    "detA = linalg.det(A)\n",
    "print(detA)"
   ]
  },
  {
   "source": [
    "## Part (b)\n",
    "Find the inverse of the coefficients matrix"
   ],
   "cell_type": "markdown",
   "metadata": {}
  },
  {
   "cell_type": "code",
   "execution_count": 5,
   "metadata": {},
   "outputs": [
    {
     "output_type": "stream",
     "name": "stdout",
     "text": [
      "[[-0.21875    0.34375    0.265625   0.078125 ]\n [-0.28125    0.15625   -0.015625   0.171875 ]\n [ 0.203125   0.109375  -0.2109375 -0.1796875]\n [ 0.3125    -0.0625    -0.09375    0.03125  ]]\n"
     ]
    }
   ],
   "source": [
    "print(Ainverse)"
   ]
  },
  {
   "source": [
    "## Part (c)\n",
    "Now, using an iterative algorithm, find the matrix inverse"
   ],
   "cell_type": "markdown",
   "metadata": {}
  },
  {
   "cell_type": "code",
   "execution_count": 9,
   "metadata": {},
   "outputs": [
    {
     "output_type": "stream",
     "name": "stdout",
     "text": [
      "Matrix is not square, this algorithm does not work! :(\n"
     ]
    },
    {
     "output_type": "error",
     "ename": "TypeError",
     "evalue": "'NoneType' object is not subscriptable",
     "traceback": [
      "\u001b[0;31m---------------------------------------------------------------------------\u001b[0m",
      "\u001b[0;31mTypeError\u001b[0m                                 Traceback (most recent call last)",
      "\u001b[0;32m<ipython-input-9-fffb8972364c>\u001b[0m in \u001b[0;36m<module>\u001b[0;34m\u001b[0m\n\u001b[1;32m      1\u001b[0m \u001b[0;32mfrom\u001b[0m \u001b[0minverseGauss\u001b[0m \u001b[0;32mimport\u001b[0m \u001b[0;34m*\u001b[0m \u001b[0;31m#See inverseGauss.py at the end of this file for the full implementation of the algorithm\u001b[0m\u001b[0;34m\u001b[0m\u001b[0;34m\u001b[0m\u001b[0m\n\u001b[0;32m----> 2\u001b[0;31m \u001b[0mprint\u001b[0m\u001b[0;34m(\u001b[0m\u001b[0minverseUsingGauss\u001b[0m\u001b[0;34m(\u001b[0m\u001b[0mA\u001b[0m\u001b[0;34m,\u001b[0m \u001b[0;32mFalse\u001b[0m\u001b[0;34m)\u001b[0m\u001b[0;34m)\u001b[0m\u001b[0;34m\u001b[0m\u001b[0;34m\u001b[0m\u001b[0m\n\u001b[0m",
      "\u001b[0;32m~/Documents/ITESM/MSM/Primer semestre/Metodos numericos/Homework 06/Problem 01/inverseGauss.py\u001b[0m in \u001b[0;36minverseUsingGauss\u001b[0;34m(*a)\u001b[0m\n\u001b[1;32m     41\u001b[0m     \u001b[0mnCol\u001b[0m \u001b[0;34m=\u001b[0m \u001b[0mdimensions\u001b[0m\u001b[0;34m[\u001b[0m\u001b[0;36m1\u001b[0m\u001b[0;34m]\u001b[0m\u001b[0;34m\u001b[0m\u001b[0;34m\u001b[0m\u001b[0m\n\u001b[1;32m     42\u001b[0m     \u001b[0mnRows\u001b[0m \u001b[0;34m=\u001b[0m \u001b[0mdimensions\u001b[0m\u001b[0;34m[\u001b[0m\u001b[0;36m0\u001b[0m\u001b[0;34m]\u001b[0m\u001b[0;34m\u001b[0m\u001b[0;34m\u001b[0m\u001b[0m\n\u001b[0;32m---> 43\u001b[0;31m     \u001b[0;32mif\u001b[0m \u001b[0mnRows\u001b[0m \u001b[0;34m!=\u001b[0m \u001b[0mnCol\u001b[0m\u001b[0;34m:\u001b[0m\u001b[0;34m\u001b[0m\u001b[0;34m\u001b[0m\u001b[0m\n\u001b[0m\u001b[1;32m     44\u001b[0m         \u001b[0mprint\u001b[0m\u001b[0;34m(\u001b[0m\u001b[0;34m\"Matrix is not square, this algorithm does not work! :(\"\u001b[0m\u001b[0;34m)\u001b[0m\u001b[0;34m\u001b[0m\u001b[0;34m\u001b[0m\u001b[0m\n\u001b[1;32m     45\u001b[0m         \u001b[0;32mreturn\u001b[0m \u001b[0;32mNone\u001b[0m\u001b[0;34m\u001b[0m\u001b[0;34m\u001b[0m\u001b[0m\n",
      "\u001b[0;31mTypeError\u001b[0m: 'NoneType' object is not subscriptable"
     ]
    }
   ],
   "source": [
    "from inverseGauss import * #See inverseGauss.py at the end of this file for the full implementation of the algorithm\n",
    "print(inverseUsingGauss(A, False))"
   ]
  },
  {
   "source": [
    "## Part (d)\n",
    "Solve the system ussing $x = A^{-1} B$"
   ],
   "cell_type": "markdown",
   "metadata": {}
  },
  {
   "cell_type": "code",
   "execution_count": 21,
   "metadata": {},
   "outputs": [
    {
     "output_type": "stream",
     "name": "stdout",
     "text": [
      "[[1.]\n [2.]\n [2.]\n [3.]]\n"
     ]
    }
   ],
   "source": [
    "B = np.matrix([[8] ,[11], [-8], [14]])\n",
    "solution = Ainverse*B\n",
    "print(solution)"
   ]
  },
  {
   "source": [
    "## Part (e)\n",
    "Solve the system ussing Solve"
   ],
   "cell_type": "markdown",
   "metadata": {}
  },
  {
   "cell_type": "code",
   "execution_count": 22,
   "metadata": {},
   "outputs": [
    {
     "output_type": "stream",
     "name": "stdout",
     "text": [
      "[[1.]\n [2.]\n [2.]\n [3.]]\n"
     ]
    }
   ],
   "source": [
    "print(linalg.solve(A,B))"
   ]
  },
  {
   "source": [
    "## Part (f)\n",
    "Solve the system ussing an iterative method"
   ],
   "cell_type": "markdown",
   "metadata": {}
  },
  {
   "source": [
    "## Part (g)\n",
    "Find the eigenvalues and eigenvectors of the coefficients matrix"
   ],
   "cell_type": "markdown",
   "metadata": {}
  }
 ]
}